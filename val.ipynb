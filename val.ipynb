{
 "cells": [
  {
   "cell_type": "code",
   "execution_count": 10,
   "metadata": {},
   "outputs": [],
   "source": [
    "#importing libraries\n",
    "import h5py\n",
    "import scipy.io as io\n",
    "import PIL.Image as Image\n",
    "import numpy as np\n",
    "import os\n",
    "import glob\n",
    "from matplotlib import pyplot as plt\n",
    "from scipy.ndimage.filters import gaussian_filter\n",
    "import scipy\n",
    "import json\n",
    "import torchvision.transforms.functional as F\n",
    "from matplotlib import cm as CM\n",
    "from image import *\n",
    "from model import CSRNet\n",
    "import torch\n",
    "from tqdm import tqdm\n",
    "from natsort import natsorted\n",
    "\n",
    "%matplotlib inline"
   ]
  },
  {
   "cell_type": "code",
   "execution_count": 11,
   "metadata": {},
   "outputs": [],
   "source": [
    "from torchvision import datasets, transforms\n",
    "transform=transforms.Compose([\n",
    "                      transforms.ToTensor(),transforms.Normalize(mean=[0.485, 0.456, 0.406],\n",
    "                                    std=[0.229, 0.224, 0.225]),\n",
    "                  ])"
   ]
  },
  {
   "cell_type": "code",
   "execution_count": 55,
   "metadata": {},
   "outputs": [],
   "source": [
    "screws/dataset\""
   ]
  },
  {
   "cell_type": "code",
   "execution_count": 56,
   "metadata": {},
   "outputs": [],
   "source": [
    "part_A_train = os.path.join(root,\"train\",\"images\")\n",
    "part_A_test = os.path.join(root,\"test\",\"images\")\n",
    "path_sets = [part_A_test]"
   ]
  },
  {
   "cell_type": "code",
   "execution_count": 57,
   "metadata": {},
   "outputs": [],
   "source": [
    "img_paths = []\n",
    "for path in path_sets:\n",
    "    for img_path in natsorted(glob.glob(os.path.join(path, \"*.jpg\"))):\n",
    "        img_paths.append(img_path)"
   ]
  },
  {
   "cell_type": "code",
   "execution_count": 58,
   "metadata": {},
   "outputs": [],
   "source": [
    "model = CSRNet()"
   ]
  },
  {
   "cell_type": "code",
   "execution_count": 59,
   "metadata": {},
   "outputs": [],
   "source": [
    "model = model.cuda()"
   ]
  },
  {
   "cell_type": "code",
   "execution_count": 60,
   "metadata": {},
   "outputs": [],
   "source": [
    "checkpoint = torch.load('24checkpoint.pth.tar')"
   ]
  },
  {
   "cell_type": "code",
   "execution_count": 61,
   "metadata": {},
   "outputs": [
    {
     "data": {
      "text/plain": [
       "<All keys matched successfully>"
      ]
     },
     "execution_count": 61,
     "metadata": {},
     "output_type": "execute_result"
    }
   ],
   "source": [
    "model.load_state_dict(checkpoint['state_dict'])"
   ]
  },
  {
   "cell_type": "code",
   "execution_count": 53,
   "metadata": {
    "scrolled": true
   },
   "outputs": [
    {
     "name": "stderr",
     "output_type": "stream",
     "text": [
      "100%|██████████| 371/371 [02:27<00:00,  2.52it/s]"
     ]
    },
    {
     "name": "stdout",
     "output_type": "stream",
     "text": [
      "11.387934617919099\n"
     ]
    },
    {
     "name": "stderr",
     "output_type": "stream",
     "text": [
      "\n"
     ]
    }
   ],
   "source": [
    "mae = 0\n",
    "for i in tqdm(range(len(img_paths))):\n",
    "    img = transform(Image.open(img_paths[i]).convert('RGB')).cuda()\n",
    "    gt_file = h5py.File(img_paths[i].replace('.jpg','.h5').replace('images','ground-truth'),'r')\n",
    "    groundtruth = np.asarray(gt_file['density'])\n",
    "    output = model(img.unsqueeze(0))\n",
    "    mae += abs(output.detach().cpu().sum().numpy()-np.sum(groundtruth))\n",
    "print (mae/len(img_paths))"
   ]
  },
  {
   "cell_type": "code",
   "execution_count": null,
   "metadata": {},
   "outputs": [],
   "source": [
    "from matplotlib import cm as c\n",
    "folder = 'combined_result/screws/avg/'\n",
    "n = 1\n",
    "r = 54\n",
    "mae = 0\n",
    "total = 0\n",
    "under = 0\n",
    "over = 0\n",
    "for i in img_paths[:53]:\n",
    "    fig = plt.figure(figsize=(20, 20))\n",
    "    avg = []\n",
    "    for loop in range(7):\n",
    "        plt.subplot(3, 3, loop+1)\n",
    "        if loop == 0:\n",
    "            img = transform(Image.open(i).convert('RGB')).cuda()\n",
    "            \n",
    "            tempo = h5py.File((i.replace('.jpg','.h5')).replace('images','ground-truth'),'r')\n",
    "            temp_1 = np.asarray(tempo['density'])\n",
    "            original_count = np.round(np.sum(temp_1), 3)\n",
    "            sub_count = np.round(original_count, 3)\n",
    "            total += original_count\n",
    "        else:\n",
    "            fff = i.replace('_'+str(n), '_'+str(r))\n",
    "            img = transform(Image.open(fff).convert('RGB')).cuda()\n",
    "            \n",
    "            tempo = h5py.File((fff.replace('.jpg','.h5')).replace('images','ground-truth'),'r')\n",
    "            temp_2 = np.asarray(tempo['density'])\n",
    "            sub_count = np.round(np.sum(temp_2), 3)\n",
    "            \n",
    "            r+= 1\n",
    "        \n",
    "        output = model(img.unsqueeze(0))\n",
    "        predicted = np.round(output.detach().cpu().sum().numpy(), 3)\n",
    "        temp = np.asarray(output.detach().cpu().reshape(output.detach().cpu().shape[2],output.detach().cpu().shape[3]))\n",
    "        \n",
    "        plt.title('Original:'+str(sub_count)+ ' predicted:' + str(predicted))\n",
    "        plt.imshow(temp,cmap = c.jet)\n",
    "        avg.append(predicted)\n",
    "        \n",
    "    average_of_all = np.mean(avg)\n",
    "    \n",
    "    \n",
    "    \n",
    "    error = average_of_all - original_count\n",
    "    if error > 0:\n",
    "        over += error\n",
    "    elif error <0:\n",
    "        under += abs(error)\n",
    "    mae += abs(error)\n",
    "    \n",
    "    plt.subplot(3, 3, 8)\n",
    "    plt.title('Original:'+str(original_count)+ ' predicted avg:'+str(np.round(average_of_all, 3)))\n",
    "    plt.imshow(temp_1, cmap = c.jet)\n",
    "    \n",
    "    \n",
    "    original_image = plt.imread(i)\n",
    "    plt.subplot(3, 3, 9)\n",
    "    plt.title('Original Image')\n",
    "    plt.imshow(original_image)\n",
    "    \n",
    "\n",
    "    \n",
    "    plt.savefig(folder+str(n)+'.jpg', bbox_inches='tight')\n",
    "    \n",
    "    plt.close()\n",
    "    n = n+1\n",
    "    \n",
    "\n",
    "print(\"Out of {} objects {} objects were miss-counted. {} were overcounted and {} were undercounted\"\n",
    "              .format(np.round(total, 3), np.round(mae, 3), np.round(over,3), np.round(under,3)))\n",
    "print(\"Mean absolute error \", np.round(mae/53, 3))\n"
   ]
  },
  {
   "cell_type": "code",
   "execution_count": 43,
   "metadata": {},
   "outputs": [
    {
     "name": "stdout",
     "output_type": "stream",
     "text": [
      "Out of 2575.596 objects 148.018 objects were miss-counted. 101.893 were overcounted and 46.125 were undercounted\n",
      "Mean absolute error  2.793\n"
     ]
    }
   ],
   "source": [
    "from matplotlib import cm as c\n",
    "folder = 'combined_result/circles/without_avg/'\n",
    "n = 1\n",
    "r = 54\n",
    "mae = 0\n",
    "total = 0\n",
    "under = 0\n",
    "over = 0\n",
    "for i in img_paths[:53]:\n",
    "    fig = plt.figure(figsize=(20, 20))\n",
    "    avg = []\n",
    "    img = transform(Image.open(i).convert('RGB')).cuda()\n",
    "    output = model(img.unsqueeze(0))\n",
    "    #print(\"Predicted Count : \",np.round(output.detach().cpu().sum().numpy(), 3))\n",
    "    predicted = np.round(output.detach().cpu().sum().numpy(), 3)\n",
    "    temp = np.asarray(output.detach().cpu().reshape(output.detach().cpu().shape[2],output.detach().cpu().shape[3]))\n",
    "    plt.subplot(3, 1, 1)\n",
    "    plt.title(str(predicted))\n",
    "    plt.imshow(temp,cmap = c.jet)\n",
    "    \n",
    "    \n",
    "    tempo = h5py.File((i.replace('.jpg','.h5')).replace('images','ground-truth'),'r')\n",
    "    temp_1 = np.asarray(tempo['density'])\n",
    "    original_count = np.round(np.sum(temp_1), 3)\n",
    "    total += original_count\n",
    "    \n",
    "    error = predicted - original_count\n",
    "    if error > 0:\n",
    "        over += error\n",
    "    elif error <0:\n",
    "        under += abs(error)\n",
    "    mae += abs(error)\n",
    "    \n",
    "    plt.subplot(3, 1, 2)\n",
    "    plt.title('Original:'+str(original_count))\n",
    "    plt.imshow(temp_1, cmap = c.jet)\n",
    "    \n",
    "    \n",
    "    original_image = plt.imread(i)\n",
    "    plt.subplot(3, 1, 3)\n",
    "    plt.title('Original Image')\n",
    "    plt.imshow(original_image)\n",
    "    \n",
    "\n",
    "    \n",
    "    plt.savefig(folder+str(n)+'.jpg', bbox_inches='tight')\n",
    "    \n",
    "    plt.close()\n",
    "    n = n+1\n",
    "    \n",
    "\n",
    "print(\"Out of {} objects {} objects were miss-counted. {} were overcounted and {} were undercounted\"\n",
    "              .format(np.round(total, 3), np.round(mae, 3), np.round(over,3), np.round(under,3)))\n",
    "print(\"Mean absolute error \", np.round(mae/53, 3))\n"
   ]
  },
  {
   "cell_type": "code",
   "execution_count": null,
   "metadata": {},
   "outputs": [],
   "source": []
  }
 ],
 "metadata": {
  "kernelspec": {
   "display_name": "Python 3",
   "language": "python",
   "name": "python3"
  },
  "language_info": {
   "codemirror_mode": {
    "name": "ipython",
    "version": 3
   },
   "file_extension": ".py",
   "mimetype": "text/x-python",
   "name": "python",
   "nbconvert_exporter": "python",
   "pygments_lexer": "ipython3",
   "version": "3.6.8"
  }
 },
 "nbformat": 4,
 "nbformat_minor": 2
}
